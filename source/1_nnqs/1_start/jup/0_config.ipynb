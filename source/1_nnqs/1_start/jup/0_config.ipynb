{
 "cells": [
  {
   "cell_type": "code",
   "execution_count": null,
   "id": "9245c2a3",
   "metadata": {},
   "outputs": [],
   "source": [
    "import os\n",
    "os.environ[\"JAX_PLATFORM_NAME\"] = \"cpu\"\n",
    "import netket as nk\n",
    "import numpy as np\n",
    "import matplotlib.pyplot as plt\n",
    "import netket.nn as nknn\n",
    "import flax.linen as nn\n",
    "import jax.numpy as jnp\n",
    "import math\n",
    "import json"
   ]
  },
  {
   "cell_type": "code",
   "execution_count": null,
   "id": "b3538313",
   "metadata": {},
   "outputs": [],
   "source": [
    "import warnings\n",
    "warnings.filterwarnings(\"ignore\")"
   ]
  },
  {
   "cell_type": "code",
   "execution_count": null,
   "id": "c82152f9",
   "metadata": {},
   "outputs": [],
   "source": [
    "#### a: angle in degrees; t: number of decimal places after truncation\n",
    "def j_coupl(a,t):\n",
    "    theta = math.radians(a); sin = math.sin(theta);cos = math.cos(theta)\n",
    "    sin_t = math.trunc(cos * 10**t) / 10**t; cos_t = math.trunc(cos * 10**t) / 10**t\n",
    "    J = [sin_t,cos_t]\n",
    "    return J"
   ]
  },
  {
   "cell_type": "code",
   "execution_count": null,
   "id": "97b47da3",
   "metadata": {},
   "outputs": [],
   "source": [
    "class FFNN(nn.Module):\n",
    "    @nn.compact\n",
    "    def __call__(self, x):\n",
    "        x = nn.Dense(features=2*x.shape[-1], \n",
    "                     use_bias=True, \n",
    "                     param_dtype=np.complex128, \n",
    "                     kernel_init=nn.initializers.normal(stddev=0.01), \n",
    "                     bias_init=nn.initializers.normal(stddev=0.01)\n",
    "                    )(x)\n",
    "        x = nknn.log_cosh(x)\n",
    "        x = jnp.sum(x, axis=-1)\n",
    "        return x"
   ]
  },
  {
   "cell_type": "code",
   "execution_count": null,
   "id": "96dddf4a",
   "metadata": {},
   "outputs": [],
   "source": [
    "def config(J,L):\n",
    "    # Define custom graph\n",
    "    edge_colors = []\n",
    "    for i in range(L):\n",
    "        edge_colors.append([i, (i+1)%L, 1])\n",
    "        edge_colors.append([i, (i+2)%L, 2])\n",
    "\n",
    "    # Define the netket graph object\n",
    "    g = nk.graph.Graph(edges=edge_colors)\n",
    "    \n",
    "    #Sigma^z*Sigma^z interactions\n",
    "    sigmaz = [[1, 0], [0, -1]]\n",
    "    mszsz = (np.kron(sigmaz, sigmaz))\n",
    "\n",
    "    #Exchange interactions\n",
    "    exchange = np.asarray([[0, 0, 0, 0], [0, 0, 2, 0], [0, 2, 0, 0], [0, 0, 0, 0]])\n",
    "\n",
    "    bond_operator = [\n",
    "        (J[0] * mszsz).tolist(),\n",
    "        (J[1] * mszsz).tolist(),\n",
    "        (-J[0] * exchange).tolist(),  \n",
    "        (J[1] * exchange).tolist(),\n",
    "    ]\n",
    "\n",
    "    bond_color = [1, 2, 1, 2]\n",
    "    \n",
    "    # Spin based Hilbert Space\n",
    "    hi = nk.hilbert.Spin(s=0.5, total_sz=0.0, N=g.n_nodes)\n",
    "    # Custom Hamiltonian operator\n",
    "    return  g, hi, nk.operator.GraphOperator(hi, graph=g, bond_ops=bond_operator, bond_ops_colors=bond_color)  "
   ]
  },
  {
   "cell_type": "code",
   "execution_count": null,
   "id": "294ae9fa",
   "metadata": {},
   "outputs": [],
   "source": [
    "def st_fact(hi,L):\n",
    "    sf = []\n",
    "    sites = []\n",
    "    structure_factor = nk.operator.LocalOperator(hi, dtype=complex)\n",
    "    for i in range(0, L):\n",
    "        for j in range(0, L):\n",
    "            structure_factor += (nk.operator.spin.sigmaz(hi, i)*nk.operator.spin.sigmaz(hi, j))*((-1)**(i-j))/L\n",
    "    return structure_factor"
   ]
  },
  {
   "cell_type": "code",
   "execution_count": null,
   "id": "9c12897d",
   "metadata": {},
   "outputs": [],
   "source": [
    "def g_run(g,hi,model,n_s,op):\n",
    "    # We shall use an exchange Sampler which preserves the global magnetization (as this is a conserved quantity in the model)\n",
    "    sa = nk.sampler.MetropolisExchange(hilbert=hi, graph=g, d_max = 2)\n",
    "\n",
    "    # Construct the variational state\n",
    "    vs = nk.vqs.MCState(sa, model, n_samples=n_s)\n",
    "\n",
    "    # We choose a basic, albeit important, Optimizer: the Stochastic Gradient Descent\n",
    "    opt = nk.optimizer.Sgd(learning_rate=0.01)\n",
    "\n",
    "    # Stochastic Reconfiguration\n",
    "    sr = nk.optimizer.SR(diag_shift=0.01)\n",
    "\n",
    "    # We can then specify a Variational Monte Carlo object, using the Hamiltonian, sampler and optimizers chosen.\n",
    "    gs = nk.VMC(hamiltonian=op, optimizer=opt, variational_state=vs, preconditioner=sr)   \n",
    "    return gs"
   ]
  }
 ],
 "metadata": {
  "kernelspec": {
   "display_name": "Python 3 (ipykernel)",
   "language": "python",
   "name": "python3"
  },
  "language_info": {
   "codemirror_mode": {
    "name": "ipython",
    "version": 3
   },
   "file_extension": ".py",
   "mimetype": "text/x-python",
   "name": "python",
   "nbconvert_exporter": "python",
   "pygments_lexer": "ipython3",
   "version": "3.10.12"
  }
 },
 "nbformat": 4,
 "nbformat_minor": 5
}
