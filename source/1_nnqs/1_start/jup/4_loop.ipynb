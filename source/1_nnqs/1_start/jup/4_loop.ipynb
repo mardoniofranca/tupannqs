{
 "cells": [
  {
   "cell_type": "code",
   "execution_count": 23,
   "id": "73a4f863",
   "metadata": {},
   "outputs": [],
   "source": [
    "%run 0_config.ipynb"
   ]
  },
  {
   "cell_type": "code",
   "execution_count": 31,
   "id": "661e2cd3",
   "metadata": {},
   "outputs": [],
   "source": [
    "def run(A,T,L,N_IT,N_S):\n",
    "    J = j_coupl(A,T); g,hi,op = config(J,L); \n",
    "    n_s = N_S; structure_factor = st_fact(hi,L)\n",
    "    model = FFNN()\n",
    "    gs = g_run(g,hi,model,n_s,op)\n",
    "    path = 'data/log/t' + '_'+ str(L) + '_' + str(A) + '_' + str(N_IT) + '_' + str(N_S)\n",
    "    print(path)\n",
    "    gs.run(out='data/log/t' + '_'+ str(L) + '_' + str(A) + '_' + str(N_IT) + '_' + str(N_S), \n",
    "           n_iter=N_IT,  obs={'Structure Factor': structure_factor})\n",
    "    return op, structure_factor, path"
   ]
  },
  {
   "cell_type": "code",
   "execution_count": 115,
   "id": "70a8ce76",
   "metadata": {},
   "outputs": [],
   "source": [
    "def result(path, N_IT):\n",
    "    path = path + \".log\"\n",
    "    import json\n",
    "    data=json.load(open(path))\n",
    "    iters = data['Energy']['iters']\n",
    "    energy=data['Energy']['Mean']['real']\n",
    "    sf=data['Structure Factor']['Mean']['real']\n",
    "    pos = (-1) * N_IT\n",
    "    \n",
    "    print(len(sf))\n",
    "    \n",
    "    print(r\"Energy = {0:.3f}({1:.3f})\".format(np.mean(energy[-1]), np.std(energy)/(np.sqrt(N_IT))))\n",
    "    \n",
    "    print(r\"Structure factor = {0:.3f}({1:.3f})\".format(np.mean(sf[-1]),\n",
    "                                              np.std(np.array(sf))/np.sqrt(N_IT)))\n",
    "        \n",
    "    calc_energy,calc_struct_fac           = np.mean(energy[-1]),np.mean(sf[-1])\n",
    "    std_calc_energy                       = np.std(energy)/(np.sqrt(N_IT))\n",
    "    std_calc_struct_fac                   = np.std(np.array(sf))/np.sqrt(N_IT)\n",
    "    \n",
    "        \n",
    "    return calc_energy,calc_struct_fac, std_calc_energy, std_calc_struct_fac\n",
    "    "
   ]
  },
  {
   "cell_type": "code",
   "execution_count": 60,
   "id": "27c9436d",
   "metadata": {},
   "outputs": [],
   "source": [
    "def exact_diag(op,structure_factor):\n",
    "    E_gs, ket_gs = nk.exact.lanczos_ed(op, compute_eigenvectors=True)\n",
    "    structure_factor_gs = (ket_gs.T.conj()@structure_factor.to_linear_operator()@ket_gs).real[0,0]\n",
    "    exact_energy,exact_struct_fac = E_gs[0], structure_factor_gs\n",
    "    print(\"Exact ground state energy = {0:.3f}\".format(E_gs[0]))\n",
    "    print(\"Exact Ground-state Structure Factor: {0:.3f}\".format(structure_factor_gs))\n",
    "    return exact_energy,exact_struct_fac"
   ]
  },
  {
   "cell_type": "code",
   "execution_count": 55,
   "id": "8ac35fec",
   "metadata": {},
   "outputs": [
    {
     "name": "stdout",
     "output_type": "stream",
     "text": [
      "data/log/t_12_0_1200_1008\n"
     ]
    },
    {
     "data": {
      "application/vnd.jupyter.widget-view+json": {
       "model_id": "1a07f2697fae4fc3b5c360c89e25f96c",
       "version_major": 2,
       "version_minor": 0
      },
      "text/plain": [
       "  0%|                                                                           | 0/1200 [00:00<?, ?it/s]"
      ]
     },
     "metadata": {},
     "output_type": "display_data"
    }
   ],
   "source": [
    "A = 0; T = 10; L = 12 ;N_IT = 1200;N_S = 1008\n",
    "op,structure_factor,path = run(A,T,L,N_IT,N_S)"
   ]
  },
  {
   "cell_type": "code",
   "execution_count": 90,
   "id": "77db6c85",
   "metadata": {},
   "outputs": [
    {
     "name": "stdout",
     "output_type": "stream",
     "text": [
      "1200\n",
      "Energy = -22.674(0.000)\n",
      "Structure factor = 0.615(0.000)\n"
     ]
    }
   ],
   "source": [
    "calc_energy,calc_struct_fac,std_calc_energy, std_calc_struct_fac = result(path,N_IT)"
   ]
  },
  {
   "cell_type": "code",
   "execution_count": 61,
   "id": "feb1780d",
   "metadata": {},
   "outputs": [
    {
     "name": "stdout",
     "output_type": "stream",
     "text": [
      "Exact ground state energy = -23.585\n",
      "Exact Ground-state Structure Factor: 0.196\n"
     ]
    }
   ],
   "source": [
    "exact_energy,exact_struct_fac = exact_diag(op,structure_factor)"
   ]
  },
  {
   "cell_type": "code",
   "execution_count": 67,
   "id": "ba9371c6",
   "metadata": {},
   "outputs": [],
   "source": [
    "import pandas as pd"
   ]
  },
  {
   "cell_type": "code",
   "execution_count": 111,
   "id": "2b38c7d9",
   "metadata": {},
   "outputs": [],
   "source": [
    "def main(A,T,L,N_IT,N_S):\n",
    "    \n",
    "    op,structure_factor,path = run(A,T,L,N_IT,N_S)\n",
    "    \n",
    "    calc_energy,calc_struct_fac,std_calc_energy, std_calc_struct_fac = result(path,N_IT)\n",
    "    \n",
    "    exact_energy,exact_struct_fac = exact_diag(op,structure_factor)\n",
    "    \n",
    "    df = pd.DataFrame({\n",
    "    'degree'              : [A],\n",
    "    'l'                   : [L],\n",
    "    'n_it'                : [N_IT],\n",
    "    'n_s'                 : [N_S],        \n",
    "    'calc_energy'         : [calc_energy],\n",
    "    'exact_energy'        : [exact_energy],\n",
    "    'calc_struct_fac'     : [calc_struct_fac],\n",
    "    'exact_struct_fac'    : [exact_struct_fac],\n",
    "    'std_calc_energy'     : [std_calc_energy],\n",
    "    'std_calc_struct_fac' : [std_calc_struct_fac],        \n",
    "    'path'                : [path + \".csv\"]\n",
    "    })\n",
    "    \n",
    "    return df"
   ]
  },
  {
   "cell_type": "code",
   "execution_count": 118,
   "id": "45350daf",
   "metadata": {},
   "outputs": [
    {
     "name": "stdout",
     "output_type": "stream",
     "text": [
      "data/log/t_14_0_60_1008\n"
     ]
    },
    {
     "data": {
      "application/vnd.jupyter.widget-view+json": {
       "model_id": "2afd3bf8a6e64a30b78aeea0c33ebb92",
       "version_major": 2,
       "version_minor": 0
      },
      "text/plain": [
       "  0%|                                                                             | 0/60 [00:00<?, ?it/s]"
      ]
     },
     "metadata": {},
     "output_type": "display_data"
    },
    {
     "name": "stdout",
     "output_type": "stream",
     "text": [
      "60\n",
      "Energy = -22.866(0.643)\n",
      "Structure factor = 1.020(0.055)\n",
      "Exact ground state energy = -27.727\n",
      "Exact Ground-state Structure Factor: 0.344\n"
     ]
    },
    {
     "data": {
      "text/html": [
       "<div>\n",
       "<style scoped>\n",
       "    .dataframe tbody tr th:only-of-type {\n",
       "        vertical-align: middle;\n",
       "    }\n",
       "\n",
       "    .dataframe tbody tr th {\n",
       "        vertical-align: top;\n",
       "    }\n",
       "\n",
       "    .dataframe thead th {\n",
       "        text-align: right;\n",
       "    }\n",
       "</style>\n",
       "<table border=\"1\" class=\"dataframe\">\n",
       "  <thead>\n",
       "    <tr style=\"text-align: right;\">\n",
       "      <th></th>\n",
       "      <th>degree</th>\n",
       "      <th>l</th>\n",
       "      <th>n_it</th>\n",
       "      <th>n_s</th>\n",
       "      <th>calc_energy</th>\n",
       "      <th>exact_energy</th>\n",
       "      <th>calc_struct_fac</th>\n",
       "      <th>exact_struct_fac</th>\n",
       "      <th>std_calc_energy</th>\n",
       "      <th>std_calc_struct_fac</th>\n",
       "      <th>path</th>\n",
       "    </tr>\n",
       "  </thead>\n",
       "  <tbody>\n",
       "    <tr>\n",
       "      <th>0</th>\n",
       "      <td>0</td>\n",
       "      <td>14</td>\n",
       "      <td>60</td>\n",
       "      <td>1008</td>\n",
       "      <td>-22.866064</td>\n",
       "      <td>-27.727284</td>\n",
       "      <td>1.020408</td>\n",
       "      <td>0.343754</td>\n",
       "      <td>0.643431</td>\n",
       "      <td>0.054882</td>\n",
       "      <td>data/log/t_14_0_60_1008.csv</td>\n",
       "    </tr>\n",
       "  </tbody>\n",
       "</table>\n",
       "</div>"
      ],
      "text/plain": [
       "   degree   l  n_it   n_s  calc_energy  exact_energy  calc_struct_fac  \\\n",
       "0       0  14    60  1008   -22.866064    -27.727284         1.020408   \n",
       "\n",
       "   exact_struct_fac  std_calc_energy  std_calc_struct_fac  \\\n",
       "0          0.343754         0.643431             0.054882   \n",
       "\n",
       "                          path  \n",
       "0  data/log/t_14_0_60_1008.csv  "
      ]
     },
     "execution_count": 118,
     "metadata": {},
     "output_type": "execute_result"
    }
   ],
   "source": [
    "A = 0; T = 10; L =14 ;N_IT = 60;N_S = 1008\n",
    "df = main(A,T,L,N_IT,N_S)\n",
    "df.head()"
   ]
  },
  {
   "cell_type": "code",
   "execution_count": 119,
   "id": "6c1e6676",
   "metadata": {},
   "outputs": [
    {
     "name": "stdout",
     "output_type": "stream",
     "text": [
      "data/log/t_14_0_100_1008\n"
     ]
    },
    {
     "data": {
      "application/vnd.jupyter.widget-view+json": {
       "model_id": "8b7e4d485a7e4e6fa8864b4ef9bcb5fc",
       "version_major": 2,
       "version_minor": 0
      },
      "text/plain": [
       "  0%|                                                                            | 0/100 [00:00<?, ?it/s]"
      ]
     },
     "metadata": {},
     "output_type": "display_data"
    },
    {
     "name": "stdout",
     "output_type": "stream",
     "text": [
      "100\n",
      "Energy = -23.766(0.451)\n",
      "Structure factor = 0.982(0.042)\n",
      "Exact ground state energy = -27.727\n",
      "Exact Ground-state Structure Factor: 0.344\n"
     ]
    },
    {
     "data": {
      "text/html": [
       "<div>\n",
       "<style scoped>\n",
       "    .dataframe tbody tr th:only-of-type {\n",
       "        vertical-align: middle;\n",
       "    }\n",
       "\n",
       "    .dataframe tbody tr th {\n",
       "        vertical-align: top;\n",
       "    }\n",
       "\n",
       "    .dataframe thead th {\n",
       "        text-align: right;\n",
       "    }\n",
       "</style>\n",
       "<table border=\"1\" class=\"dataframe\">\n",
       "  <thead>\n",
       "    <tr style=\"text-align: right;\">\n",
       "      <th></th>\n",
       "      <th>degree</th>\n",
       "      <th>l</th>\n",
       "      <th>n_it</th>\n",
       "      <th>n_s</th>\n",
       "      <th>calc_energy</th>\n",
       "      <th>exact_energy</th>\n",
       "      <th>calc_struct_fac</th>\n",
       "      <th>exact_struct_fac</th>\n",
       "      <th>std_calc_energy</th>\n",
       "      <th>std_calc_struct_fac</th>\n",
       "      <th>path</th>\n",
       "    </tr>\n",
       "  </thead>\n",
       "  <tbody>\n",
       "    <tr>\n",
       "      <th>0</th>\n",
       "      <td>0</td>\n",
       "      <td>14</td>\n",
       "      <td>100</td>\n",
       "      <td>1008</td>\n",
       "      <td>-23.76582</td>\n",
       "      <td>-27.727284</td>\n",
       "      <td>0.981859</td>\n",
       "      <td>0.343754</td>\n",
       "      <td>0.450845</td>\n",
       "      <td>0.042155</td>\n",
       "      <td>data/log/t_14_0_100_1008.csv</td>\n",
       "    </tr>\n",
       "  </tbody>\n",
       "</table>\n",
       "</div>"
      ],
      "text/plain": [
       "   degree   l  n_it   n_s  calc_energy  exact_energy  calc_struct_fac  \\\n",
       "0       0  14   100  1008    -23.76582    -27.727284         0.981859   \n",
       "\n",
       "   exact_struct_fac  std_calc_energy  std_calc_struct_fac  \\\n",
       "0          0.343754         0.450845             0.042155   \n",
       "\n",
       "                           path  \n",
       "0  data/log/t_14_0_100_1008.csv  "
      ]
     },
     "execution_count": 119,
     "metadata": {},
     "output_type": "execute_result"
    }
   ],
   "source": [
    "A = 0; T = 10; L =14 ;N_IT = 100;N_S = 1008\n",
    "df = main(A,T,L,N_IT,N_S)\n",
    "df.head()"
   ]
  },
  {
   "cell_type": "code",
   "execution_count": 120,
   "id": "50b04af1",
   "metadata": {},
   "outputs": [
    {
     "name": "stdout",
     "output_type": "stream",
     "text": [
      "data/log/t_14_0_200_1008\n"
     ]
    },
    {
     "data": {
      "application/vnd.jupyter.widget-view+json": {
       "model_id": "b5234718a7514e6aa3a78002186d10a4",
       "version_major": 2,
       "version_minor": 0
      },
      "text/plain": [
       "  0%|                                                                            | 0/200 [00:00<?, ?it/s]"
      ]
     },
     "metadata": {},
     "output_type": "display_data"
    },
    {
     "name": "stdout",
     "output_type": "stream",
     "text": [
      "200\n",
      "Energy = -26.637(0.311)\n",
      "Structure factor = 0.551(0.033)\n",
      "Exact ground state energy = -27.727\n",
      "Exact Ground-state Structure Factor: 0.344\n"
     ]
    },
    {
     "data": {
      "text/html": [
       "<div>\n",
       "<style scoped>\n",
       "    .dataframe tbody tr th:only-of-type {\n",
       "        vertical-align: middle;\n",
       "    }\n",
       "\n",
       "    .dataframe tbody tr th {\n",
       "        vertical-align: top;\n",
       "    }\n",
       "\n",
       "    .dataframe thead th {\n",
       "        text-align: right;\n",
       "    }\n",
       "</style>\n",
       "<table border=\"1\" class=\"dataframe\">\n",
       "  <thead>\n",
       "    <tr style=\"text-align: right;\">\n",
       "      <th></th>\n",
       "      <th>degree</th>\n",
       "      <th>l</th>\n",
       "      <th>n_it</th>\n",
       "      <th>n_s</th>\n",
       "      <th>calc_energy</th>\n",
       "      <th>exact_energy</th>\n",
       "      <th>calc_struct_fac</th>\n",
       "      <th>exact_struct_fac</th>\n",
       "      <th>std_calc_energy</th>\n",
       "      <th>std_calc_struct_fac</th>\n",
       "      <th>path</th>\n",
       "    </tr>\n",
       "  </thead>\n",
       "  <tbody>\n",
       "    <tr>\n",
       "      <th>0</th>\n",
       "      <td>0</td>\n",
       "      <td>14</td>\n",
       "      <td>200</td>\n",
       "      <td>1008</td>\n",
       "      <td>-26.636595</td>\n",
       "      <td>-27.727284</td>\n",
       "      <td>0.55102</td>\n",
       "      <td>0.343754</td>\n",
       "      <td>0.311056</td>\n",
       "      <td>0.033216</td>\n",
       "      <td>data/log/t_14_0_200_1008.csv</td>\n",
       "    </tr>\n",
       "  </tbody>\n",
       "</table>\n",
       "</div>"
      ],
      "text/plain": [
       "   degree   l  n_it   n_s  calc_energy  exact_energy  calc_struct_fac  \\\n",
       "0       0  14   200  1008   -26.636595    -27.727284          0.55102   \n",
       "\n",
       "   exact_struct_fac  std_calc_energy  std_calc_struct_fac  \\\n",
       "0          0.343754         0.311056             0.033216   \n",
       "\n",
       "                           path  \n",
       "0  data/log/t_14_0_200_1008.csv  "
      ]
     },
     "execution_count": 120,
     "metadata": {},
     "output_type": "execute_result"
    }
   ],
   "source": [
    "A = 0; T = 10; L =14 ;N_IT = 200;N_S = 1008\n",
    "df = main(A,T,L,N_IT,N_S)\n",
    "df.head()"
   ]
  },
  {
   "cell_type": "code",
   "execution_count": 121,
   "id": "372d3ae3",
   "metadata": {},
   "outputs": [
    {
     "name": "stdout",
     "output_type": "stream",
     "text": [
      "data/log/t_14_0_400_1008\n"
     ]
    },
    {
     "data": {
      "application/vnd.jupyter.widget-view+json": {
       "model_id": "4a1b3700f74d4d2a8e6136457bbe3a43",
       "version_major": 2,
       "version_minor": 0
      },
      "text/plain": [
       "  0%|                                                                            | 0/400 [00:00<?, ?it/s]"
      ]
     },
     "metadata": {},
     "output_type": "display_data"
    },
    {
     "name": "stdout",
     "output_type": "stream",
     "text": [
      "400\n",
      "Energy = -26.679(0.168)\n",
      "Structure factor = 0.490(0.019)\n",
      "Exact ground state energy = -27.727\n",
      "Exact Ground-state Structure Factor: 0.344\n"
     ]
    },
    {
     "data": {
      "text/html": [
       "<div>\n",
       "<style scoped>\n",
       "    .dataframe tbody tr th:only-of-type {\n",
       "        vertical-align: middle;\n",
       "    }\n",
       "\n",
       "    .dataframe tbody tr th {\n",
       "        vertical-align: top;\n",
       "    }\n",
       "\n",
       "    .dataframe thead th {\n",
       "        text-align: right;\n",
       "    }\n",
       "</style>\n",
       "<table border=\"1\" class=\"dataframe\">\n",
       "  <thead>\n",
       "    <tr style=\"text-align: right;\">\n",
       "      <th></th>\n",
       "      <th>degree</th>\n",
       "      <th>l</th>\n",
       "      <th>n_it</th>\n",
       "      <th>n_s</th>\n",
       "      <th>calc_energy</th>\n",
       "      <th>exact_energy</th>\n",
       "      <th>calc_struct_fac</th>\n",
       "      <th>exact_struct_fac</th>\n",
       "      <th>std_calc_energy</th>\n",
       "      <th>std_calc_struct_fac</th>\n",
       "      <th>path</th>\n",
       "    </tr>\n",
       "  </thead>\n",
       "  <tbody>\n",
       "    <tr>\n",
       "      <th>0</th>\n",
       "      <td>0</td>\n",
       "      <td>14</td>\n",
       "      <td>400</td>\n",
       "      <td>1008</td>\n",
       "      <td>-26.678716</td>\n",
       "      <td>-27.727284</td>\n",
       "      <td>0.489796</td>\n",
       "      <td>0.343754</td>\n",
       "      <td>0.168232</td>\n",
       "      <td>0.019302</td>\n",
       "      <td>data/log/t_14_0_400_1008.csv</td>\n",
       "    </tr>\n",
       "  </tbody>\n",
       "</table>\n",
       "</div>"
      ],
      "text/plain": [
       "   degree   l  n_it   n_s  calc_energy  exact_energy  calc_struct_fac  \\\n",
       "0       0  14   400  1008   -26.678716    -27.727284         0.489796   \n",
       "\n",
       "   exact_struct_fac  std_calc_energy  std_calc_struct_fac  \\\n",
       "0          0.343754         0.168232             0.019302   \n",
       "\n",
       "                           path  \n",
       "0  data/log/t_14_0_400_1008.csv  "
      ]
     },
     "execution_count": 121,
     "metadata": {},
     "output_type": "execute_result"
    }
   ],
   "source": [
    "A = 0; T = 10; L =14 ;N_IT = 400;N_S = 1008\n",
    "df = main(A,T,L,N_IT,N_S)\n",
    "df.head()"
   ]
  },
  {
   "cell_type": "code",
   "execution_count": 122,
   "id": "5738c359",
   "metadata": {},
   "outputs": [
    {
     "name": "stdout",
     "output_type": "stream",
     "text": [
      "data/log/t_14_0_600_1008\n"
     ]
    },
    {
     "data": {
      "application/vnd.jupyter.widget-view+json": {
       "model_id": "4a48fae9b05642b3bea1926999bef3ad",
       "version_major": 2,
       "version_minor": 0
      },
      "text/plain": [
       "  0%|                                                                            | 0/600 [00:00<?, ?it/s]"
      ]
     },
     "metadata": {},
     "output_type": "display_data"
    },
    {
     "name": "stdout",
     "output_type": "stream",
     "text": [
      "600\n",
      "Energy = -26.428(0.116)\n",
      "Structure factor = 0.556(0.013)\n",
      "Exact ground state energy = -27.727\n",
      "Exact Ground-state Structure Factor: 0.344\n"
     ]
    },
    {
     "data": {
      "text/html": [
       "<div>\n",
       "<style scoped>\n",
       "    .dataframe tbody tr th:only-of-type {\n",
       "        vertical-align: middle;\n",
       "    }\n",
       "\n",
       "    .dataframe tbody tr th {\n",
       "        vertical-align: top;\n",
       "    }\n",
       "\n",
       "    .dataframe thead th {\n",
       "        text-align: right;\n",
       "    }\n",
       "</style>\n",
       "<table border=\"1\" class=\"dataframe\">\n",
       "  <thead>\n",
       "    <tr style=\"text-align: right;\">\n",
       "      <th></th>\n",
       "      <th>degree</th>\n",
       "      <th>l</th>\n",
       "      <th>n_it</th>\n",
       "      <th>n_s</th>\n",
       "      <th>calc_energy</th>\n",
       "      <th>exact_energy</th>\n",
       "      <th>calc_struct_fac</th>\n",
       "      <th>exact_struct_fac</th>\n",
       "      <th>std_calc_energy</th>\n",
       "      <th>std_calc_struct_fac</th>\n",
       "      <th>path</th>\n",
       "    </tr>\n",
       "  </thead>\n",
       "  <tbody>\n",
       "    <tr>\n",
       "      <th>0</th>\n",
       "      <td>0</td>\n",
       "      <td>14</td>\n",
       "      <td>600</td>\n",
       "      <td>1008</td>\n",
       "      <td>-26.4282</td>\n",
       "      <td>-27.727284</td>\n",
       "      <td>0.555556</td>\n",
       "      <td>0.343754</td>\n",
       "      <td>0.11559</td>\n",
       "      <td>0.013077</td>\n",
       "      <td>data/log/t_14_0_600_1008.csv</td>\n",
       "    </tr>\n",
       "  </tbody>\n",
       "</table>\n",
       "</div>"
      ],
      "text/plain": [
       "   degree   l  n_it   n_s  calc_energy  exact_energy  calc_struct_fac  \\\n",
       "0       0  14   600  1008     -26.4282    -27.727284         0.555556   \n",
       "\n",
       "   exact_struct_fac  std_calc_energy  std_calc_struct_fac  \\\n",
       "0          0.343754          0.11559             0.013077   \n",
       "\n",
       "                           path  \n",
       "0  data/log/t_14_0_600_1008.csv  "
      ]
     },
     "execution_count": 122,
     "metadata": {},
     "output_type": "execute_result"
    }
   ],
   "source": [
    "A = 0; T = 10; L =14 ;N_IT = 600;N_S = 1008\n",
    "df = main(A,T,L,N_IT,N_S)\n",
    "df.head()"
   ]
  },
  {
   "cell_type": "code",
   "execution_count": 123,
   "id": "ec47bd63",
   "metadata": {},
   "outputs": [
    {
     "name": "stdout",
     "output_type": "stream",
     "text": [
      "data/log/t_14_0_1200_2016\n"
     ]
    },
    {
     "data": {
      "application/vnd.jupyter.widget-view+json": {
       "model_id": "295d9386ae734bc18bef107d4f2efa4e",
       "version_major": 2,
       "version_minor": 0
      },
      "text/plain": [
       "  0%|                                                                           | 0/1200 [00:00<?, ?it/s]"
      ]
     },
     "metadata": {},
     "output_type": "display_data"
    },
    {
     "name": "stdout",
     "output_type": "stream",
     "text": [
      "1200\n",
      "Energy = -27.336(0.063)\n",
      "Structure factor = 0.336(0.008)\n",
      "Exact ground state energy = -27.727\n",
      "Exact Ground-state Structure Factor: 0.344\n"
     ]
    },
    {
     "data": {
      "text/html": [
       "<div>\n",
       "<style scoped>\n",
       "    .dataframe tbody tr th:only-of-type {\n",
       "        vertical-align: middle;\n",
       "    }\n",
       "\n",
       "    .dataframe tbody tr th {\n",
       "        vertical-align: top;\n",
       "    }\n",
       "\n",
       "    .dataframe thead th {\n",
       "        text-align: right;\n",
       "    }\n",
       "</style>\n",
       "<table border=\"1\" class=\"dataframe\">\n",
       "  <thead>\n",
       "    <tr style=\"text-align: right;\">\n",
       "      <th></th>\n",
       "      <th>degree</th>\n",
       "      <th>l</th>\n",
       "      <th>n_it</th>\n",
       "      <th>n_s</th>\n",
       "      <th>calc_energy</th>\n",
       "      <th>exact_energy</th>\n",
       "      <th>calc_struct_fac</th>\n",
       "      <th>exact_struct_fac</th>\n",
       "      <th>std_calc_energy</th>\n",
       "      <th>std_calc_struct_fac</th>\n",
       "      <th>path</th>\n",
       "    </tr>\n",
       "  </thead>\n",
       "  <tbody>\n",
       "    <tr>\n",
       "      <th>0</th>\n",
       "      <td>0</td>\n",
       "      <td>14</td>\n",
       "      <td>1200</td>\n",
       "      <td>2016</td>\n",
       "      <td>-27.335586</td>\n",
       "      <td>-27.727284</td>\n",
       "      <td>0.335601</td>\n",
       "      <td>0.343754</td>\n",
       "      <td>0.063451</td>\n",
       "      <td>0.008233</td>\n",
       "      <td>data/log/t_14_0_1200_2016.csv</td>\n",
       "    </tr>\n",
       "  </tbody>\n",
       "</table>\n",
       "</div>"
      ],
      "text/plain": [
       "   degree   l  n_it   n_s  calc_energy  exact_energy  calc_struct_fac  \\\n",
       "0       0  14  1200  2016   -27.335586    -27.727284         0.335601   \n",
       "\n",
       "   exact_struct_fac  std_calc_energy  std_calc_struct_fac  \\\n",
       "0          0.343754         0.063451             0.008233   \n",
       "\n",
       "                            path  \n",
       "0  data/log/t_14_0_1200_2016.csv  "
      ]
     },
     "execution_count": 123,
     "metadata": {},
     "output_type": "execute_result"
    }
   ],
   "source": [
    "A = 0; T = 10; L =14 ;N_IT = 1200;N_S = 2016\n",
    "df = main(A,T,L,N_IT,N_S)\n",
    "df.head()"
   ]
  },
  {
   "cell_type": "code",
   "execution_count": null,
   "id": "5e8de632",
   "metadata": {},
   "outputs": [],
   "source": [
    "A = 0; T = 10; L =14 ;N_IT = 600;N_S = 1008\n",
    "A = 0; T = 10; L =14 ;N_IT = 10;N_S = 504"
   ]
  },
  {
   "cell_type": "code",
   "execution_count": 130,
   "id": "56e296d0",
   "metadata": {},
   "outputs": [
    {
     "name": "stdout",
     "output_type": "stream",
     "text": [
      "0\n",
      "data/log/t_4_0_10_504\n"
     ]
    },
    {
     "data": {
      "application/vnd.jupyter.widget-view+json": {
       "model_id": "6ccd11bc57f244e898612ccad2fd2d6b",
       "version_major": 2,
       "version_minor": 0
      },
      "text/plain": [
       "  0%|                                                                             | 0/10 [00:00<?, ?it/s]"
      ]
     },
     "metadata": {},
     "output_type": "display_data"
    },
    {
     "name": "stdout",
     "output_type": "stream",
     "text": [
      "10\n",
      "Energy = -3.979(0.163)\n",
      "Structure factor = 2.516(0.144)\n",
      "Exact ground state energy = -12.000\n",
      "Exact Ground-state Structure Factor: 0.000\n"
     ]
    }
   ],
   "source": [
    "NN_IT = [10,50,100,200,400,600,1200,2400] \n",
    "NN_S  = [504,1008,2016,4032] \n",
    "LL    = [4,8,12,14,20]\n",
    "\n",
    "for N_IT in NN_IT:\n",
    "    for N_S in NN_S:\n",
    "        for L in LL:\n",
    "            for A in range (0,360,5):\n",
    "                df = main(A,T,L,N_IT,N_S)\n",
    "                path_df = 'data/df/t' + '_'+ str(L) + '_' + str(A) + '_' + str(N_IT) + '_' + str(N_S) + '.csv'\n",
    "                df.to_csv(path_df, index=None)\n",
    "                break;\n",
    "            break;\n",
    "        break;\n",
    "    break;"
   ]
  },
  {
   "cell_type": "code",
   "execution_count": null,
   "id": "620d7c41",
   "metadata": {},
   "outputs": [],
   "source": []
  }
 ],
 "metadata": {
  "kernelspec": {
   "display_name": "Python 3 (ipykernel)",
   "language": "python",
   "name": "python3"
  },
  "language_info": {
   "codemirror_mode": {
    "name": "ipython",
    "version": 3
   },
   "file_extension": ".py",
   "mimetype": "text/x-python",
   "name": "python",
   "nbconvert_exporter": "python",
   "pygments_lexer": "ipython3",
   "version": "3.10.12"
  }
 },
 "nbformat": 4,
 "nbformat_minor": 5
}
