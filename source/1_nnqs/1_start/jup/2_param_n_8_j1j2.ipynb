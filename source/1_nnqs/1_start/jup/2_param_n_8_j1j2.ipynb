{
 "cells": [
  {
   "cell_type": "markdown",
   "id": "3400b2bb",
   "metadata": {},
   "source": [
    "# Ground-State: J1-J2 model"
   ]
  },
  {
   "cell_type": "markdown",
   "id": "66930016",
   "metadata": {},
   "source": [
    "In this code we will use NetKet to obtain the ground state of the J1-J2 model in one-dimension with periodic boundary conditions, using a Neural Network variational wave-function. \n",
    "\n",
    "The Hamiltonian of the model is given by:\n",
    "\n",
    "$$ H = \\sum_{i=1}^{L} J_{1}\\vec{\\sigma}_{i} \\cdot \\vec{\\sigma}_{i+1} + J_{2} \\vec{\\sigma}_{i} \\cdot \\vec{\\sigma}_{i+2} $$\n",
    "\n",
    "where the sum is over sites of the 1-D chain. Here $\\vec{\\sigma}=(\\sigma^x,\\sigma^y,\\sigma^z)$ is the vector of Pauli matrices. "
   ]
  },
  {
   "cell_type": "code",
   "execution_count": 20,
   "id": "db4ec8ee",
   "metadata": {},
   "outputs": [],
   "source": [
    "import os\n",
    "os.environ[\"JAX_PLATFORM_NAME\"] = \"cpu\"\n",
    "import netket as nk\n",
    "import numpy as np\n",
    "import matplotlib.pyplot as plt\n",
    "import netket.nn as nknn\n",
    "import flax.linen as nn\n",
    "import jax.numpy as jnp\n",
    "import math"
   ]
  },
  {
   "cell_type": "code",
   "execution_count": 3,
   "id": "1d94a3fd",
   "metadata": {},
   "outputs": [],
   "source": [
    "import warnings\n",
    "warnings.filterwarnings(\"ignore\")"
   ]
  },
  {
   "cell_type": "code",
   "execution_count": 4,
   "id": "bed27b3e",
   "metadata": {},
   "outputs": [],
   "source": [
    "class FFNN(nn.Module):\n",
    "    @nn.compact\n",
    "    def __call__(self, x):\n",
    "        x = nn.Dense(features=2*x.shape[-1], \n",
    "                     use_bias=True, \n",
    "                     param_dtype=np.complex128, \n",
    "                     kernel_init=nn.initializers.normal(stddev=0.01), \n",
    "                     bias_init=nn.initializers.normal(stddev=0.01)\n",
    "                    )(x)\n",
    "        x = nknn.log_cosh(x)\n",
    "        x = jnp.sum(x, axis=-1)\n",
    "        return x"
   ]
  },
  {
   "cell_type": "code",
   "execution_count": 5,
   "id": "6bf44523",
   "metadata": {},
   "outputs": [],
   "source": [
    "def config(J,L):\n",
    "    # Define custom graph\n",
    "    edge_colors = []\n",
    "    for i in range(L):\n",
    "        edge_colors.append([i, (i+1)%L, 1])\n",
    "        edge_colors.append([i, (i+2)%L, 2])\n",
    "\n",
    "    # Define the netket graph object\n",
    "    g = nk.graph.Graph(edges=edge_colors)\n",
    "    \n",
    "    #Sigma^z*Sigma^z interactions\n",
    "    sigmaz = [[1, 0], [0, -1]]\n",
    "    mszsz = (np.kron(sigmaz, sigmaz))\n",
    "\n",
    "    #Exchange interactions\n",
    "    exchange = np.asarray([[0, 0, 0, 0], [0, 0, 2, 0], [0, 2, 0, 0], [0, 0, 0, 0]])\n",
    "\n",
    "    bond_operator = [\n",
    "        (J[0] * mszsz).tolist(),\n",
    "        (J[1] * mszsz).tolist(),\n",
    "        (-J[0] * exchange).tolist(),  \n",
    "        (J[1] * exchange).tolist(),\n",
    "    ]\n",
    "\n",
    "    bond_color = [1, 2, 1, 2]\n",
    "    \n",
    "    # Spin based Hilbert Space\n",
    "    hi = nk.hilbert.Spin(s=0.5, total_sz=0.0, N=g.n_nodes)\n",
    "    # Custom Hamiltonian operator\n",
    "    return  g, hi, nk.operator.GraphOperator(hi, graph=g, bond_ops=bond_operator, bond_ops_colors=bond_color)  "
   ]
  },
  {
   "cell_type": "code",
   "execution_count": 6,
   "id": "090bd8b4",
   "metadata": {},
   "outputs": [],
   "source": [
    "def st_fact(hi,L):\n",
    "    sf = []\n",
    "    sites = []\n",
    "    structure_factor = nk.operator.LocalOperator(hi, dtype=complex)\n",
    "    for i in range(0, L):\n",
    "        for j in range(0, L):\n",
    "            structure_factor += (nk.operator.spin.sigmaz(hi, i)*nk.operator.spin.sigmaz(hi, j))*((-1)**(i-j))/L\n",
    "    return structure_factor"
   ]
  },
  {
   "cell_type": "code",
   "execution_count": 11,
   "id": "e46a4708",
   "metadata": {},
   "outputs": [],
   "source": [
    "def g_run(g,hi,model,N,op):\n",
    "    # We shall use an exchange Sampler which preserves the global magnetization (as this is a conserved quantity in the model)\n",
    "    sa = nk.sampler.MetropolisExchange(hilbert=hi, graph=g, d_max = 2)\n",
    "\n",
    "    # Construct the variational state\n",
    "    vs = nk.vqs.MCState(sa, model, n_samples=N)\n",
    "\n",
    "    # We choose a basic, albeit important, Optimizer: the Stochastic Gradient Descent\n",
    "    opt = nk.optimizer.Sgd(learning_rate=0.01)\n",
    "\n",
    "    # Stochastic Reconfiguration\n",
    "    sr = nk.optimizer.SR(diag_shift=0.01)\n",
    "\n",
    "    # We can then specify a Variational Monte Carlo object, using the Hamiltonian, sampler and optimizers chosen.\n",
    "    gs = nk.VMC(hamiltonian=op, optimizer=opt, variational_state=vs, preconditioner=sr)   \n",
    "    return gs"
   ]
  },
  {
   "cell_type": "code",
   "execution_count": 32,
   "id": "65b995f6",
   "metadata": {},
   "outputs": [],
   "source": [
    "#### a: angle in degrees; t: number of decimal places after truncation\n",
    "def j_coupl(a,t):\n",
    "    theta = math.radians(a); sin = math.sin(theta);cos = math.cos(theta)\n",
    "    sin_t = math.trunc(cos * 10**t) / 10**t; cos_t = math.trunc(cos * 10**t) / 10**t\n",
    "    J = [sin_t,cos_t]\n",
    "    return J"
   ]
  },
  {
   "cell_type": "code",
   "execution_count": 34,
   "id": "0bad372e",
   "metadata": {},
   "outputs": [
    {
     "name": "stdout",
     "output_type": "stream",
     "text": [
      "[-0.984807753, -0.984807753]\n"
     ]
    }
   ],
   "source": [
    "J = j_coupl(190,10)\n",
    "print(J)"
   ]
  },
  {
   "cell_type": "code",
   "execution_count": 30,
   "id": "96844cce",
   "metadata": {},
   "outputs": [
    {
     "name": "stdout",
     "output_type": "stream",
     "text": [
      "[0.7071067811, 0.7071067811]\n"
     ]
    }
   ],
   "source": [
    "J = j_coupl(45,10)\n",
    "print(J)"
   ]
  },
  {
   "cell_type": "code",
   "execution_count": null,
   "id": "9aa01cc1",
   "metadata": {},
   "outputs": [],
   "source": []
  },
  {
   "cell_type": "code",
   "execution_count": 23,
   "id": "582bc39c",
   "metadata": {},
   "outputs": [
    {
     "name": "stdout",
     "output_type": "stream",
     "text": [
      "0.0 1.0\n"
     ]
    }
   ],
   "source": [
    "a    = 0; theta = math.radians(a)\n",
    "sin = math.sin(theta);cos = math.cos(theta)\n",
    "print(sin,cos)"
   ]
  },
  {
   "cell_type": "code",
   "execution_count": 24,
   "id": "6ff398b3",
   "metadata": {},
   "outputs": [
    {
     "name": "stdout",
     "output_type": "stream",
     "text": [
      "0.25881904510252074 0.9659258262890683\n"
     ]
    }
   ],
   "source": [
    "a    = 15; theta = math.radians(a)\n",
    "sin = math.sin(theta);cos = math.cos(theta)\n",
    "print(sin,cos)"
   ]
  },
  {
   "cell_type": "code",
   "execution_count": 25,
   "id": "15f4cfc9",
   "metadata": {},
   "outputs": [
    {
     "name": "stdout",
     "output_type": "stream",
     "text": [
      "0.7071067811865475 0.7071067811865476\n"
     ]
    }
   ],
   "source": [
    "a    = 45; theta = math.radians(a)\n",
    "sin = math.sin(theta);cos = math.cos(theta)\n",
    "print(sin,cos)"
   ]
  },
  {
   "cell_type": "code",
   "execution_count": 28,
   "id": "1c145b69",
   "metadata": {},
   "outputs": [
    {
     "name": "stdout",
     "output_type": "stream",
     "text": [
      "1.0 6.123233995736766e-17 0.0\n"
     ]
    }
   ],
   "source": [
    "a      = 90; theta = math.radians(a)\n",
    "sin   = math.sin(theta);cos = math.cos(theta)\n",
    "n     = 10\n",
    "cos_t = math.trunc(cos * 10**n) / 10**n\n",
    "print(sin,cos, cos_t)"
   ]
  },
  {
   "cell_type": "code",
   "execution_count": null,
   "id": "229c6b1a",
   "metadata": {},
   "outputs": [],
   "source": []
  },
  {
   "cell_type": "code",
   "execution_count": null,
   "id": "0b967af3",
   "metadata": {},
   "outputs": [],
   "source": []
  },
  {
   "cell_type": "code",
   "execution_count": null,
   "id": "9618438f",
   "metadata": {},
   "outputs": [],
   "source": []
  },
  {
   "cell_type": "code",
   "execution_count": 9,
   "id": "153f20e2",
   "metadata": {},
   "outputs": [],
   "source": [
    "J = [1, 0.2]; L = 14\n",
    "g,hi,op = config(J,L)"
   ]
  },
  {
   "cell_type": "code",
   "execution_count": null,
   "id": "73039325",
   "metadata": {},
   "outputs": [],
   "source": []
  },
  {
   "cell_type": "code",
   "execution_count": 10,
   "id": "cf410ac6",
   "metadata": {},
   "outputs": [],
   "source": [
    "model = FFNN()"
   ]
  },
  {
   "cell_type": "code",
   "execution_count": 14,
   "id": "63e1d78b",
   "metadata": {},
   "outputs": [],
   "source": [
    "structure_factor = st_fact(hi,L)"
   ]
  },
  {
   "cell_type": "code",
   "execution_count": 15,
   "id": "5abcbd17",
   "metadata": {},
   "outputs": [],
   "source": [
    "gs = g_run(g,hi,model,1008,op)"
   ]
  },
  {
   "cell_type": "code",
   "execution_count": 18,
   "id": "467ce6e9",
   "metadata": {},
   "outputs": [
    {
     "data": {
      "application/vnd.jupyter.widget-view+json": {
       "model_id": "d8f4279588a94400bf93067a971ee1dc",
       "version_major": 2,
       "version_minor": 0
      },
      "text/plain": [
       "  0%|                                                    | 0/30 [00:00<?, ?it/s]"
      ]
     },
     "metadata": {},
     "output_type": "display_data"
    },
    {
     "data": {
      "text/plain": [
       "(JsonLog('data/log/test_30', mode=write, autoflush_cost=0.005)\n",
       "   Runtime cost:\n",
       "   \tLog:    0.009810686111450195\n",
       "   \tParams: 0.0068585872650146484,)"
      ]
     },
     "execution_count": 18,
     "metadata": {},
     "output_type": "execute_result"
    }
   ],
   "source": [
    "n_it = 30\n",
    "# Run the optimization protocol\n",
    "gs.run(out='data/log/test_' + str(n_it), n_iter=n_it, obs={'Structure Factor': structure_factor})"
   ]
  },
  {
   "cell_type": "markdown",
   "id": "c1b71d76",
   "metadata": {},
   "source": [
    "## 5) Data Visualisation\n",
    "\n",
    "Now that we have optimized our machine to find the ground state of the $J_1-J_2$ model, let's look at what we have.\n",
    "The relevant data are stored in the \".log\" file while the optimized parameters are in the \".wf\" file. The files are all in json format.\n",
    "\n",
    "We shall extract the energy as well as specified observables (antiferromagnetic structure factor in our case) from the \".log\" file."
   ]
  },
  {
   "cell_type": "code",
   "execution_count": null,
   "id": "a0786e00",
   "metadata": {},
   "outputs": [],
   "source": [
    "# Load the data from the .log file\n",
    "import json\n",
    "\n",
    "data=json.load(open(\"test.log\"))\n",
    "\n",
    "iters = data['Energy']['iters']\n",
    "energy=data['Energy']['Mean']['real']\n",
    "sf=data['Structure Factor']['Mean']['real']"
   ]
  },
  {
   "cell_type": "code",
   "execution_count": null,
   "id": "d8122e7c",
   "metadata": {},
   "outputs": [],
   "source": [
    "fig, ax1 = plt.subplots()\n",
    "ax1.plot(iters, energy, color='blue', label='Energy')\n",
    "ax1.set_ylabel('Energy')\n",
    "ax1.set_xlabel('Iteration')\n",
    "ax2 = ax1.twinx() \n",
    "ax2.plot(iters, np.array(sf), color='green', label='Structure Factor')\n",
    "ax2.set_ylabel('Structure Factor')\n",
    "ax1.legend(loc=2)\n",
    "ax2.legend(loc=1)\n",
    "plt.show()"
   ]
  },
  {
   "cell_type": "markdown",
   "id": "959ed3f6",
   "metadata": {},
   "source": [
    "Let's also compute the average of those quantities (energy and neel order) over the last 50 iterations where the optimization seems to have converged."
   ]
  },
  {
   "cell_type": "code",
   "execution_count": null,
   "id": "2cefe29e",
   "metadata": {},
   "outputs": [],
   "source": [
    "print(r\"Structure factor = {0:.3f}({1:.3f})\".format(np.mean(sf[-50:]),\n",
    "                                              np.std(np.array(sf[-50:]))/np.sqrt(50)))\n",
    "print(r\"Energy = {0:.3f}({1:.3f})\".format(np.mean(energy[-50:]), np.std(energy[-50:])/(np.sqrt(50))))"
   ]
  },
  {
   "cell_type": "markdown",
   "id": "af2705af",
   "metadata": {},
   "source": [
    "## 6) Sanity Check: Exact Diagonalisation\n",
    "\n",
    "Now that we have obtained some results using VMC, it is a good time to check the quality of our results (at least for small system sizes). For this purpose, Netket provides exact diagonalisation tools. "
   ]
  },
  {
   "cell_type": "code",
   "execution_count": null,
   "id": "51902831",
   "metadata": {},
   "outputs": [],
   "source": [
    "E_gs, ket_gs = nk.exact.lanczos_ed(op, compute_eigenvectors=True)\n",
    "structure_factor_gs = (ket_gs.T.conj()@structure_factor.to_linear_operator()@ket_gs).real[0,0]"
   ]
  },
  {
   "cell_type": "code",
   "execution_count": null,
   "id": "3e1a8e62",
   "metadata": {},
   "outputs": [],
   "source": [
    "E_gs, ket_gs = nk.exact.lanczos_ed(op, compute_eigenvectors=True)\n",
    "structure_factor_gs = (ket_gs.T.conj()@structure_factor.to_linear_operator()@ket_gs).real[0,0]"
   ]
  },
  {
   "cell_type": "code",
   "execution_count": null,
   "id": "c36e18e4",
   "metadata": {},
   "outputs": [],
   "source": [
    "print(\"Exact Ground-state Structure Factor: {0:.3f}\".format(structure_factor_gs))\n",
    "print(\"Exact ground state energy = {0:.3f}\".format(E_gs[0]))"
   ]
  },
  {
   "cell_type": "markdown",
   "id": "58420d4b",
   "metadata": {},
   "source": [
    "So we see that the both energy and the structure factor we obtained is in agreement with the value obtained via exact diagonalisation."
   ]
  }
 ],
 "metadata": {
  "kernelspec": {
   "display_name": "Python 3 (ipykernel)",
   "language": "python",
   "name": "python3"
  },
  "language_info": {
   "codemirror_mode": {
    "name": "ipython",
    "version": 3
   },
   "file_extension": ".py",
   "mimetype": "text/x-python",
   "name": "python",
   "nbconvert_exporter": "python",
   "pygments_lexer": "ipython3",
   "version": "3.10.12"
  }
 },
 "nbformat": 4,
 "nbformat_minor": 5
}
