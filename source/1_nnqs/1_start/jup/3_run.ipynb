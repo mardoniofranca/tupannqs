{
 "cells": [
  {
   "cell_type": "code",
   "execution_count": 1,
   "id": "cddf098b",
   "metadata": {},
   "outputs": [],
   "source": [
    "%run 0_config.ipynb"
   ]
  },
  {
   "cell_type": "code",
   "execution_count": 9,
   "id": "1ecc49ec",
   "metadata": {},
   "outputs": [],
   "source": [
    "A       = 0; t = 10\n",
    "J       = j_coupl(A,t)"
   ]
  },
  {
   "cell_type": "code",
   "execution_count": 10,
   "id": "7e88bf73",
   "metadata": {},
   "outputs": [],
   "source": [
    "L       = 14\n",
    "g,hi,op = config(J,L)"
   ]
  },
  {
   "cell_type": "code",
   "execution_count": 11,
   "id": "ebed7292",
   "metadata": {},
   "outputs": [],
   "source": [
    "structure_factor = st_fact(hi,L)"
   ]
  },
  {
   "cell_type": "code",
   "execution_count": 12,
   "id": "5056c9ad",
   "metadata": {},
   "outputs": [],
   "source": [
    "model = FFNN()"
   ]
  },
  {
   "cell_type": "code",
   "execution_count": 13,
   "id": "cde5e7b8",
   "metadata": {},
   "outputs": [],
   "source": [
    "gs = g_run(g,hi,model,1008,op)"
   ]
  },
  {
   "cell_type": "code",
   "execution_count": 14,
   "id": "3377940a",
   "metadata": {},
   "outputs": [
    {
     "data": {
      "application/vnd.jupyter.widget-view+json": {
       "model_id": "e29fe337044247a298e81bef050625cb",
       "version_major": 2,
       "version_minor": 0
      },
      "text/plain": [
       "  0%|                                                    | 0/10 [00:00<?, ?it/s]"
      ]
     },
     "metadata": {},
     "output_type": "display_data"
    },
    {
     "data": {
      "text/plain": [
       "(JsonLog('data/log/t_14_0_10', mode=write, autoflush_cost=0.005)\n",
       "   Runtime cost:\n",
       "   \tLog:    0.003454446792602539\n",
       "   \tParams: 0.0027799606323242188,)"
      ]
     },
     "execution_count": 14,
     "metadata": {},
     "output_type": "execute_result"
    }
   ],
   "source": [
    "N_IT = 10\n",
    "# Run the optimization protocol\n",
    "gs.run(out='data/log/t' + '_'\n",
    "       + str(L)         + '_'  \n",
    "       + str(A)         + '_'  \n",
    "       + str(N_IT), n_iter=N_IT, \n",
    "       obs={'Structure Factor': structure_factor})"
   ]
  },
  {
   "cell_type": "code",
   "execution_count": 18,
   "id": "4923a97c",
   "metadata": {},
   "outputs": [
    {
     "name": "stdout",
     "output_type": "stream",
     "text": [
      "Structure factor = 1.634(0.102)\n",
      "Energy = -9.248(1.440)\n"
     ]
    }
   ],
   "source": [
    "import json\n",
    "\n",
    "data=json.load(open(\"data/log/t_14_0_10.log\"))\n",
    "\n",
    "iters = data['Energy']['iters']\n",
    "energy=data['Energy']['Mean']['real']\n",
    "sf=data['Structure Factor']['Mean']['real']\n",
    "\n",
    "print(r\"Structure factor = {0:.3f}({1:.3f})\".format(np.mean(sf[-10:]),\n",
    "                                              np.std(np.array(sf[-10:]))/np.sqrt(10)))\n",
    "print(r\"Energy = {0:.3f}({1:.3f})\".format(np.mean(energy[-10:]), np.std(energy[-10:])/(np.sqrt(10))))"
   ]
  },
  {
   "cell_type": "code",
   "execution_count": 19,
   "id": "87d094a5",
   "metadata": {},
   "outputs": [
    {
     "data": {
      "text/plain": [
       "10"
      ]
     },
     "execution_count": 19,
     "metadata": {},
     "output_type": "execute_result"
    }
   ],
   "source": [
    "len(iters)"
   ]
  },
  {
   "cell_type": "code",
   "execution_count": 15,
   "id": "6d481134",
   "metadata": {},
   "outputs": [],
   "source": [
    "E_gs, ket_gs = nk.exact.lanczos_ed(op, compute_eigenvectors=True)\n",
    "structure_factor_gs = (ket_gs.T.conj()@structure_factor.to_linear_operator()@ket_gs).real[0,0]"
   ]
  },
  {
   "cell_type": "code",
   "execution_count": 16,
   "id": "b6dad360",
   "metadata": {},
   "outputs": [
    {
     "name": "stdout",
     "output_type": "stream",
     "text": [
      "Exact Ground-state Structure Factor: 0.344\n",
      "Exact ground state energy = -27.727\n"
     ]
    }
   ],
   "source": [
    "print(\"Exact Ground-state Structure Factor: {0:.3f}\".format(structure_factor_gs))\n",
    "print(\"Exact ground state energy = {0:.3f}\".format(E_gs[0]))"
   ]
  },
  {
   "cell_type": "code",
   "execution_count": null,
   "id": "ea38a07a",
   "metadata": {},
   "outputs": [],
   "source": []
  }
 ],
 "metadata": {
  "kernelspec": {
   "display_name": "Python 3 (ipykernel)",
   "language": "python",
   "name": "python3"
  },
  "language_info": {
   "codemirror_mode": {
    "name": "ipython",
    "version": 3
   },
   "file_extension": ".py",
   "mimetype": "text/x-python",
   "name": "python",
   "nbconvert_exporter": "python",
   "pygments_lexer": "ipython3",
   "version": "3.10.12"
  }
 },
 "nbformat": 4,
 "nbformat_minor": 5
}
