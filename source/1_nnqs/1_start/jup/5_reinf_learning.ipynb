{
 "cells": [
  {
   "cell_type": "code",
   "execution_count": 1,
   "id": "90c584e5",
   "metadata": {},
   "outputs": [],
   "source": [
    "import numpy as np"
   ]
  },
  {
   "cell_type": "code",
   "execution_count": 2,
   "id": "39b2b682",
   "metadata": {},
   "outputs": [],
   "source": [
    "# Parâmetros do labirinto\n",
    "rows, cols = 5, 5\n",
    "goal = (4, 4)\n",
    "walls = [(1, 1), (2, 1), (3, 1), (3, 2)]  # Paredes no labirinto\n",
    "\n",
    "# Ações: cima, baixo, esquerda, direita\n",
    "actions = ['up', 'down', 'left', 'right']\n",
    "action_idx = {a: i for i, a in enumerate(actions)}\n",
    "\n",
    "# Q-table: estados (25) x ações (4)\n",
    "q_table = np.zeros((rows * cols, len(actions)))\n",
    "\n",
    "# Hiperparâmetros\n",
    "alpha = 0.1\n",
    "gamma = 0.9\n",
    "epsilon = 0.1\n",
    "episodes = 1000"
   ]
  },
  {
   "cell_type": "code",
   "execution_count": 3,
   "id": "8b6eff79",
   "metadata": {},
   "outputs": [],
   "source": [
    "# Funções de apoio\n",
    "def state_to_index(state):\n",
    "    return state[0] * cols + state[1]\n",
    "\n",
    "def valid_move(pos):\n",
    "    r, c = pos\n",
    "    return 0 <= r < rows and 0 <= c < cols and (r, c) not in walls\n",
    "\n",
    "def step(state, action):\n",
    "    r, c = state\n",
    "    if action == 'up':\n",
    "        next_state = (r - 1, c)\n",
    "    elif action == 'down':\n",
    "        next_state = (r + 1, c)\n",
    "    elif action == 'left':\n",
    "        next_state = (r, c - 1)\n",
    "    elif action == 'right':\n",
    "        next_state = (r, c + 1)\n",
    "\n",
    "    if not valid_move(next_state):\n",
    "        next_state = state  # Fica parado se bater na parede\n",
    "\n",
    "    reward = 1 if next_state == goal else 0\n",
    "    done = next_state == goal\n",
    "    return next_state, reward, done"
   ]
  },
  {
   "cell_type": "code",
   "execution_count": 4,
   "id": "018f1884",
   "metadata": {},
   "outputs": [],
   "source": [
    "# Treinamento\n",
    "for ep in range(episodes):\n",
    "    state = (0, 0)\n",
    "    done = False\n",
    "\n",
    "    while not done:\n",
    "        s_idx = state_to_index(state)\n",
    "\n",
    "        # Epsilon-greedy\n",
    "        if np.random.rand() < epsilon:\n",
    "            action = np.random.choice(actions)\n",
    "        else:\n",
    "            action = actions[np.argmax(q_table[s_idx])]\n",
    "\n",
    "        next_state, reward, done = step(state, action)\n",
    "        ns_idx = state_to_index(next_state)\n",
    "\n",
    "        q_table[s_idx, action_idx[action]] += alpha * (\n",
    "            reward + gamma * np.max(q_table[ns_idx]) - q_table[s_idx, action_idx[action]]\n",
    "        )\n",
    "\n",
    "        state = next_state"
   ]
  },
  {
   "cell_type": "code",
   "execution_count": 5,
   "id": "d79352b6",
   "metadata": {},
   "outputs": [
    {
     "name": "stdout",
     "output_type": "stream",
     "text": [
      "Caminho aprendido pelo agente:\n",
      "S . . . .\n",
      "  #     .\n",
      "  #     .\n",
      "  # #   .\n",
      "        G\n"
     ]
    }
   ],
   "source": [
    "# Teste: seguir a política aprendida\n",
    "state = (0, 0)\n",
    "path = [state]\n",
    "while state != goal:\n",
    "    s_idx = state_to_index(state)\n",
    "    action = actions[np.argmax(q_table[s_idx])]\n",
    "    state, _, _ = step(state, action)\n",
    "    path.append(state)\n",
    "\n",
    "# Exibir o caminho aprendido\n",
    "print(\"Caminho aprendido pelo agente:\")\n",
    "maze = np.full((rows, cols), ' ')\n",
    "for (r, c) in walls:\n",
    "    maze[r, c] = '#'\n",
    "for (r, c) in path:\n",
    "    maze[r, c] = '.'\n",
    "maze[0, 0] = 'S'\n",
    "maze[goal[0], goal[1]] = 'G'\n",
    "for row in maze:\n",
    "    print(' '.join(row))\n"
   ]
  },
  {
   "cell_type": "code",
   "execution_count": 7,
   "id": "49ea6c76",
   "metadata": {},
   "outputs": [
    {
     "name": "stderr",
     "output_type": "stream",
     "text": [
      "/tmp/ipykernel_80349/494927463.py:16: MatplotlibDeprecationWarning: The get_cmap function was deprecated in Matplotlib 3.7 and will be removed in 3.11. Use ``matplotlib.colormaps[name]`` or ``matplotlib.colormaps.get_cmap()`` or ``pyplot.get_cmap()`` instead.\n",
      "  cmap = plt.cm.get_cmap('Greys', 4)\n"
     ]
    },
    {
     "data": {
      "image/png": "[encoded data removed]",
      "text/plain": [
       "<Figure size 640x480 with 1 Axes>"
      ]
     },
     "metadata": {},
     "output_type": "display_data"
    }
   ],
   "source": [
    "import matplotlib.pyplot as plt\n",
    "\n",
    "# === GRÁFICO ===\n",
    "\n",
    "# Cria uma matriz do labirinto para visualização\n",
    "maze = np.zeros((rows, cols))\n",
    "for (r, c) in walls:\n",
    "    maze[r, c] = -1  # parede\n",
    "for (r, c) in path:\n",
    "    maze[r, c] = 0.5  # caminho\n",
    "maze[0, 0] = 0.7  # início\n",
    "maze[goal[0], goal[1]] = 1  # objetivo\n",
    "\n",
    "# Plota o labirinto\n",
    "fig, ax = plt.subplots()\n",
    "cmap = plt.cm.get_cmap('Greys', 4)\n",
    "im = ax.imshow(maze, cmap=cmap, vmin=-1, vmax=1)\n",
    "\n",
    "# Anotações\n",
    "for r in range(rows):\n",
    "    for c in range(cols):\n",
    "        if (r, c) in walls:\n",
    "            ax.text(c, r, '#', ha='center', va='center', color='black', fontsize=14)\n",
    "        elif (r, c) == (0, 0):\n",
    "            ax.text(c, r, 'S', ha='center', va='center', color='green', fontsize=14)\n",
    "        elif (r, c) == goal:\n",
    "            ax.text(c, r, 'G', ha='center', va='center', color='blue', fontsize=14)\n",
    "        elif (r, c) in path:\n",
    "            ax.text(c, r, '.', ha='center', va='center', color='black', fontsize=14)\n",
    "\n",
    "ax.set_title('Caminho Aprendido no Labirinto')\n",
    "ax.set_xticks([])\n",
    "ax.set_yticks([])\n",
    "plt.show()"
   ]
  },
  {
   "cell_type": "code",
   "execution_count": 8,
   "id": "930144a1",
   "metadata": {},
   "outputs": [
    {
     "name": "stdout",
     "output_type": "stream",
     "text": [
      "Probabilidades estimadas de recompensa: Máquina 0 = 0.17, Máquina 1 = 0.72\n",
      "Melhor escolha: Máquina 1\n"
     ]
    }
   ],
   "source": [
    "import numpy as np\n",
    "from sklearn.linear_model import LogisticRegression\n",
    "\n",
    "# Simulação de ambiente: duas ações (máquinas) com probabilidades diferentes de vitória\n",
    "def bandit_environment(action):\n",
    "    if action == 0:\n",
    "        return np.random.rand() < 0.3  # Máquina 0 dá recompensa 30% das vezes\n",
    "    elif action == 1:\n",
    "        return np.random.rand() < 0.7  # Máquina 1 dá 70% das vezes\n",
    "\n",
    "# Dados para treino\n",
    "X = []\n",
    "y = []\n",
    "\n",
    "# Treinamento usando um modelo supervisionado\n",
    "model = LogisticRegression()\n",
    "\n",
    "for i in range(200):\n",
    "    # Epsilon-greedy: explora ou usa modelo\n",
    "    if i < 10 or np.random.rand() < 0.1 or len(y) < 10:\n",
    "        action = np.random.choice([0, 1])  # Explora no começo\n",
    "    else:\n",
    "        preds = model.predict_proba([[0], [1]])[:, 1]  # Probabilidade de recompensa\n",
    "        action = np.argmax(preds)\n",
    "\n",
    "    # Recebe a recompensa\n",
    "    reward = bandit_environment(action)\n",
    "\n",
    "    # Armazena o par (ação, recompensa)\n",
    "    X.append([action])\n",
    "    y.append(reward)\n",
    "\n",
    "    # Atualiza o modelo\n",
    "    if len(set(y)) > 1:  # Evita erro se só tiver 0s ou 1s\n",
    "        model.fit(X, y)\n",
    "\n",
    "# Teste: qual máquina o modelo aprendeu a preferir?\n",
    "preds = model.predict_proba([[0], [1]])[:, 1]\n",
    "print(f\"Probabilidades estimadas de recompensa: Máquina 0 = {preds[0]:.2f}, Máquina 1 = {preds[1]:.2f}\")\n",
    "print(f\"Melhor escolha: Máquina {np.argmax(preds)}\")\n"
   ]
  },
  {
   "cell_type": "code",
   "execution_count": 11,
   "id": "1466ea74",
   "metadata": {},
   "outputs": [
    {
     "data": {
      "image/png": "[encoded data removed]",
      "text/plain": [
       "<Figure size 800x400 with 1 Axes>"
      ]
     },
     "metadata": {},
     "output_type": "display_data"
    }
   ],
   "source": [
    "import numpy as np\n",
    "import matplotlib.pyplot as plt\n",
    "\n",
    "# Função objetivo: queremos minimizar isso\n",
    "def f(x):\n",
    "    return x**2 -  4\n",
    "\n",
    "# Espaço de estados e ações\n",
    "x_min, x_max = -4, 4\n",
    "n_states = 100\n",
    "states = np.linspace(x_min, x_max, n_states)\n",
    "delta = 0.1  # tamanho do passo\n",
    "\n",
    "# Ações: 0 = esquerda, 1 = direita\n",
    "actions = [0, 1]\n",
    "\n",
    "# Q-table: estados x ações\n",
    "q_table = np.zeros((n_states, len(actions)))\n",
    "\n",
    "# Hiperparâmetros\n",
    "alpha = 0.1\n",
    "gamma = 0.9\n",
    "epsilon = 0.2\n",
    "episodes = 1000\n",
    "\n",
    "# Funções auxiliares\n",
    "def get_state_index(x):\n",
    "    return np.clip(int((x - x_min) / (x_max - x_min) * n_states), 0, n_states - 1)\n",
    "\n",
    "# Treinamento\n",
    "for ep in range(episodes):\n",
    "    x = np.random.uniform(x_min, x_max)  # estado inicial aleatório\n",
    "\n",
    "    for _ in range(50):  # limite de passos por episódio\n",
    "        s_idx = get_state_index(x)\n",
    "\n",
    "        # Política epsilon-greedy\n",
    "        if np.random.rand() < epsilon:\n",
    "            action = np.random.choice(actions)\n",
    "        else:\n",
    "            action = np.argmax(q_table[s_idx])\n",
    "\n",
    "        # Executa ação\n",
    "        x_new = x - delta if action == 0 else x + delta\n",
    "        x_new = np.clip(x_new, x_min, x_max)\n",
    "\n",
    "        # Calcula recompensa negativa da função\n",
    "        reward = -f(x_new)\n",
    "\n",
    "        # Atualiza Q-table\n",
    "        ns_idx = get_state_index(x_new)\n",
    "        q_table[s_idx, action] += alpha * (\n",
    "            reward + gamma * np.max(q_table[ns_idx]) - q_table[s_idx, action]\n",
    "        )\n",
    "\n",
    "        x = x_new\n",
    "\n",
    "# Após treinamento, encontra o melhor estado\n",
    "values = -np.array([np.max(q_table[i]) for i in range(n_states)])\n",
    "best_idx = np.argmax(values)\n",
    "best_x = states[best_idx]\n",
    "\n",
    "# Plot da função e do mínimo encontrado\n",
    "x_plot = np.linspace(x_min, x_max, 200)\n",
    "y_plot = f(x_plot)\n",
    "\n",
    "plt.figure(figsize=(8, 4))\n",
    "plt.plot(x_plot, y_plot, label='f(x)', color='blue')\n",
    "plt.axvline(best_x, color='red', linestyle='--', label=f'Mínimo encontrado: x = {best_x:.3f}')\n",
    "plt.scatter([best_x], [f(best_x)], color='red')\n",
    "plt.title('Minimização de Função com Q-Learning')\n",
    "plt.xlabel('x')\n",
    "plt.ylabel('f(x)')\n",
    "plt.legend()\n",
    "plt.grid(True)\n",
    "plt.show()"
   ]
  },
  {
   "cell_type": "code",
   "execution_count": null,
   "id": "387d4c50",
   "metadata": {},
   "outputs": [],
   "source": []
  }
 ],
 "metadata": {
  "kernelspec": {
   "display_name": "Python 3 (ipykernel)",
   "language": "python",
   "name": "python3"
  },
  "language_info": {
   "codemirror_mode": {
    "name": "ipython",
    "version": 3
   },
   "file_extension": ".py",
   "mimetype": "text/x-python",
   "name": "python",
   "nbconvert_exporter": "python",
   "pygments_lexer": "ipython3",
   "version": "3.10.12"
  }
 },
 "nbformat": 4,
 "nbformat_minor": 5
}
